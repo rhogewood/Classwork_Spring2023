{
 "cells": [
  {
   "cell_type": "code",
   "execution_count": 1,
   "id": "06b2891c",
   "metadata": {},
   "outputs": [
    {
     "name": "stdout",
     "output_type": "stream",
     "text": [
      "5\n"
     ]
    }
   ],
   "source": [
    "x = 5\n",
    "print(x)"
   ]
  },
  {
   "cell_type": "code",
   "execution_count": 2,
   "id": "725db155",
   "metadata": {},
   "outputs": [
    {
     "name": "stdout",
     "output_type": "stream",
     "text": [
      "7\n"
     ]
    }
   ],
   "source": [
    "y = x+2\n",
    "print(y)"
   ]
  },
  {
   "cell_type": "code",
   "execution_count": 5,
   "id": "846d3b89",
   "metadata": {},
   "outputs": [],
   "source": [
    "def print_val(i):\n",
    "    print(i+2)"
   ]
  },
  {
   "cell_type": "code",
   "execution_count": 7,
   "id": "40e78629",
   "metadata": {},
   "outputs": [
    {
     "name": "stdout",
     "output_type": "stream",
     "text": [
      "14\n"
     ]
    }
   ],
   "source": [
    "print_val(12)"
   ]
  },
  {
   "cell_type": "markdown",
   "id": "cbd52a32",
   "metadata": {},
   "source": [
    "## Markdown\n",
    "    * Hello\n",
    "    * More\n",
    "    * Goodbye"
   ]
  },
  {
   "cell_type": "code",
   "execution_count": null,
   "id": "21f8524a",
   "metadata": {},
   "outputs": [],
   "source": []
  }
 ],
 "metadata": {
  "kernelspec": {
   "display_name": "Python 3 (ipykernel)",
   "language": "python",
   "name": "python3"
  },
  "language_info": {
   "codemirror_mode": {
    "name": "ipython",
    "version": 3
   },
   "file_extension": ".py",
   "mimetype": "text/x-python",
   "name": "python",
   "nbconvert_exporter": "python",
   "pygments_lexer": "ipython3",
   "version": "3.9.13"
  }
 },
 "nbformat": 4,
 "nbformat_minor": 5
}
